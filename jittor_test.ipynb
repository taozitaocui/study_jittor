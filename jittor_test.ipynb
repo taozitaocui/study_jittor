{
 "cells": [
  {
   "cell_type": "code",
   "execution_count": 1,
   "id": "2defd420",
   "metadata": {},
   "outputs": [
    {
     "name": "stdout",
     "output_type": "stream",
     "text": [
      "Compiling jittor_core(147/147) used: 4.123s eta: 0.000s\n"
     ]
    }
   ],
   "source": [
    "import jittor"
   ]
  },
  {
   "cell_type": "code",
   "execution_count": 2,
   "id": "78961b78",
   "metadata": {},
   "outputs": [],
   "source": [
    "a = jittor.arange(12)"
   ]
  },
  {
   "cell_type": "code",
   "execution_count": 3,
   "id": "c324c0ed",
   "metadata": {},
   "outputs": [],
   "source": [
    "b = a.reshape(3, 4)"
   ]
  },
  {
   "cell_type": "code",
   "execution_count": 4,
   "id": "8fb2ce6e",
   "metadata": {},
   "outputs": [
    {
     "data": {
      "text/plain": [
       "jt.Var([[ 0  1  2  3]\n",
       "        [ 4  5  6  7]\n",
       "        [ 8  9 10 11]], dtype=int32)"
      ]
     },
     "execution_count": 4,
     "metadata": {},
     "output_type": "execute_result"
    }
   ],
   "source": [
    "b"
   ]
  },
  {
   "cell_type": "code",
   "execution_count": 11,
   "id": "024f19b1",
   "metadata": {},
   "outputs": [
    {
     "data": {
      "text/plain": [
       "(jittor.jittor_core.Var, [12,])"
      ]
     },
     "execution_count": 11,
     "metadata": {},
     "output_type": "execute_result"
    }
   ],
   "source": [
    "type(a),a.shape"
   ]
  },
  {
   "cell_type": "code",
   "execution_count": null,
   "id": "39fa9970",
   "metadata": {},
   "outputs": [],
   "source": []
  },
  {
   "cell_type": "code",
   "execution_count": null,
   "id": "18a8cf1f",
   "metadata": {},
   "outputs": [],
   "source": []
  },
  {
   "cell_type": "code",
   "execution_count": null,
   "id": "9f9aa8c6",
   "metadata": {},
   "outputs": [],
   "source": []
  }
 ],
 "metadata": {
  "kernelspec": {
   "display_name": "Python 3 (ipykernel)",
   "language": "python",
   "name": "python3"
  },
  "language_info": {
   "codemirror_mode": {
    "name": "ipython",
    "version": 3
   },
   "file_extension": ".py",
   "mimetype": "text/x-python",
   "name": "python",
   "nbconvert_exporter": "python",
   "pygments_lexer": "ipython3",
   "version": "3.9.7"
  }
 },
 "nbformat": 4,
 "nbformat_minor": 5
}
